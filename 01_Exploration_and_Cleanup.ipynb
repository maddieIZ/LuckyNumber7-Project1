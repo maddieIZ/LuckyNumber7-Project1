{
 "cells": [
  {
   "cell_type": "code",
   "execution_count": 226,
   "metadata": {},
   "outputs": [],
   "source": [
    "import pandas as pd\n",
    "import random\n",
    "import matplotlib.pyplot as plt\n",
    "import numpy as np\n",
    "\n",
    "# Here we open the csv file that was exported at the last step of the Data Extraction Process, and create a dataframe \n",
    "\n",
    "file_to_open = \"Output/00_Extraction/data_csv_original.csv\"\n",
    "data_df = pd.read_csv(file_to_open)\n"
   ]
  },
  {
   "cell_type": "code",
   "execution_count": 227,
   "metadata": {},
   "outputs": [
    {
     "data": {
      "text/html": [
       "<div>\n",
       "<style scoped>\n",
       "    .dataframe tbody tr th:only-of-type {\n",
       "        vertical-align: middle;\n",
       "    }\n",
       "\n",
       "    .dataframe tbody tr th {\n",
       "        vertical-align: top;\n",
       "    }\n",
       "\n",
       "    .dataframe thead th {\n",
       "        text-align: right;\n",
       "    }\n",
       "</style>\n",
       "<table border=\"1\" class=\"dataframe\">\n",
       "  <thead>\n",
       "    <tr style=\"text-align: right;\">\n",
       "      <th></th>\n",
       "      <th>Date</th>\n",
       "      <th>DCOILBRENTEU</th>\n",
       "      <th>DJIA</th>\n",
       "      <th>DCOILWTICO</th>\n",
       "      <th>DHHNGSP</th>\n",
       "      <th>GOLDAMGBD228NLBM</th>\n",
       "      <th>NASDAQCOM</th>\n",
       "      <th>SP500</th>\n",
       "      <th>WILL5000INDFC</th>\n",
       "      <th>DEXCHUS</th>\n",
       "      <th>DEXINUS</th>\n",
       "      <th>DEXJPUS</th>\n",
       "      <th>DEXUSEU</th>\n",
       "    </tr>\n",
       "  </thead>\n",
       "  <tbody>\n",
       "    <tr>\n",
       "      <td>0</td>\n",
       "      <td>1987-05-20</td>\n",
       "      <td>18.63</td>\n",
       "      <td>NaN</td>\n",
       "      <td>19.75</td>\n",
       "      <td>NaN</td>\n",
       "      <td>479.950</td>\n",
       "      <td>406.57</td>\n",
       "      <td>NaN</td>\n",
       "      <td>6.54</td>\n",
       "      <td>3.7314</td>\n",
       "      <td>12.59</td>\n",
       "      <td>139.78</td>\n",
       "      <td>NaN</td>\n",
       "    </tr>\n",
       "    <tr>\n",
       "      <td>1</td>\n",
       "      <td>1987-05-21</td>\n",
       "      <td>18.45</td>\n",
       "      <td>NaN</td>\n",
       "      <td>19.95</td>\n",
       "      <td>NaN</td>\n",
       "      <td>468.600</td>\n",
       "      <td>408.47</td>\n",
       "      <td>NaN</td>\n",
       "      <td>6.58</td>\n",
       "      <td>3.7314</td>\n",
       "      <td>12.63</td>\n",
       "      <td>140.45</td>\n",
       "      <td>NaN</td>\n",
       "    </tr>\n",
       "    <tr>\n",
       "      <td>2</td>\n",
       "      <td>1987-05-22</td>\n",
       "      <td>18.55</td>\n",
       "      <td>NaN</td>\n",
       "      <td>19.68</td>\n",
       "      <td>NaN</td>\n",
       "      <td>473.600</td>\n",
       "      <td>407.40</td>\n",
       "      <td>NaN</td>\n",
       "      <td>6.61</td>\n",
       "      <td>3.7314</td>\n",
       "      <td>12.63</td>\n",
       "      <td>140.60</td>\n",
       "      <td>NaN</td>\n",
       "    </tr>\n",
       "    <tr>\n",
       "      <td>3</td>\n",
       "      <td>1987-05-25</td>\n",
       "      <td>18.60</td>\n",
       "      <td>NaN</td>\n",
       "      <td>.</td>\n",
       "      <td>NaN</td>\n",
       "      <td>.</td>\n",
       "      <td>.</td>\n",
       "      <td>NaN</td>\n",
       "      <td>.</td>\n",
       "      <td>.</td>\n",
       "      <td>.</td>\n",
       "      <td>.</td>\n",
       "      <td>NaN</td>\n",
       "    </tr>\n",
       "    <tr>\n",
       "      <td>4</td>\n",
       "      <td>1987-05-26</td>\n",
       "      <td>18.63</td>\n",
       "      <td>NaN</td>\n",
       "      <td>19.35</td>\n",
       "      <td>NaN</td>\n",
       "      <td>459.650</td>\n",
       "      <td>411.44</td>\n",
       "      <td>NaN</td>\n",
       "      <td>6.75</td>\n",
       "      <td>3.7314</td>\n",
       "      <td>12.74</td>\n",
       "      <td>143.30</td>\n",
       "      <td>NaN</td>\n",
       "    </tr>\n",
       "  </tbody>\n",
       "</table>\n",
       "</div>"
      ],
      "text/plain": [
       "         Date DCOILBRENTEU DJIA DCOILWTICO DHHNGSP GOLDAMGBD228NLBM NASDAQCOM  \\\n",
       "0  1987-05-20        18.63  NaN      19.75     NaN          479.950    406.57   \n",
       "1  1987-05-21        18.45  NaN      19.95     NaN          468.600    408.47   \n",
       "2  1987-05-22        18.55  NaN      19.68     NaN          473.600    407.40   \n",
       "3  1987-05-25        18.60  NaN          .     NaN                .         .   \n",
       "4  1987-05-26        18.63  NaN      19.35     NaN          459.650    411.44   \n",
       "\n",
       "  SP500 WILL5000INDFC DEXCHUS DEXINUS DEXJPUS DEXUSEU  \n",
       "0   NaN          6.54  3.7314   12.59  139.78     NaN  \n",
       "1   NaN          6.58  3.7314   12.63  140.45     NaN  \n",
       "2   NaN          6.61  3.7314   12.63  140.60     NaN  \n",
       "3   NaN             .       .       .       .     NaN  \n",
       "4   NaN          6.75  3.7314   12.74  143.30     NaN  "
      ]
     },
     "execution_count": 227,
     "metadata": {},
     "output_type": "execute_result"
    }
   ],
   "source": [
    "# Display the dataframe header\n",
    "data_df.head()\n"
   ]
  },
  {
   "cell_type": "code",
   "execution_count": 228,
   "metadata": {},
   "outputs": [
    {
     "data": {
      "text/plain": [
       "'1968-04-01'"
      ]
     },
     "execution_count": 228,
     "metadata": {},
     "output_type": "execute_result"
    }
   ],
   "source": [
    "# Check for the minimum date in the dataframe\n",
    "data_df[\"Date\"].min()\n"
   ]
  },
  {
   "cell_type": "code",
   "execution_count": 229,
   "metadata": {},
   "outputs": [
    {
     "data": {
      "text/plain": [
       "'2020-03-17'"
      ]
     },
     "execution_count": 229,
     "metadata": {},
     "output_type": "execute_result"
    }
   ],
   "source": [
    "# Check for the maximum date in the dataframe\n",
    "data_df[\"Date\"].max()\n"
   ]
  },
  {
   "cell_type": "code",
   "execution_count": 230,
   "metadata": {},
   "outputs": [
    {
     "data": {
      "text/plain": [
       "(13557, 13)"
      ]
     },
     "execution_count": 230,
     "metadata": {},
     "output_type": "execute_result"
    }
   ],
   "source": [
    "# Display the rows and columns in the dataframe\n",
    "data_df.shape\n"
   ]
  },
  {
   "cell_type": "code",
   "execution_count": 231,
   "metadata": {},
   "outputs": [
    {
     "data": {
      "text/plain": [
       "Index(['Date', 'DCOILBRENTEU', 'DJIA', 'DCOILWTICO', 'DHHNGSP',\n",
       "       'GOLDAMGBD228NLBM', 'NASDAQCOM', 'SP500', 'WILL5000INDFC', 'DEXCHUS',\n",
       "       'DEXINUS', 'DEXJPUS', 'DEXUSEU'],\n",
       "      dtype='object')"
      ]
     },
     "execution_count": 231,
     "metadata": {},
     "output_type": "execute_result"
    }
   ],
   "source": [
    "# Display the names of the columns in the dataframe\n",
    "data_df.columns\n"
   ]
  },
  {
   "cell_type": "code",
   "execution_count": 232,
   "metadata": {},
   "outputs": [
    {
     "data": {
      "text/plain": [
       "Date                object\n",
       "DCOILBRENTEU        object\n",
       "DJIA                object\n",
       "DCOILWTICO          object\n",
       "DHHNGSP             object\n",
       "GOLDAMGBD228NLBM    object\n",
       "NASDAQCOM           object\n",
       "SP500               object\n",
       "WILL5000INDFC       object\n",
       "DEXCHUS             object\n",
       "DEXINUS             object\n",
       "DEXJPUS             object\n",
       "DEXUSEU             object\n",
       "dtype: object"
      ]
     },
     "execution_count": 232,
     "metadata": {},
     "output_type": "execute_result"
    }
   ],
   "source": [
    "# Display the datatypes of the columns\n",
    "data_df.dtypes\n"
   ]
  },
  {
   "cell_type": "code",
   "execution_count": 233,
   "metadata": {},
   "outputs": [
    {
     "data": {
      "text/html": [
       "<div>\n",
       "<style scoped>\n",
       "    .dataframe tbody tr th:only-of-type {\n",
       "        vertical-align: middle;\n",
       "    }\n",
       "\n",
       "    .dataframe tbody tr th {\n",
       "        vertical-align: top;\n",
       "    }\n",
       "\n",
       "    .dataframe thead th {\n",
       "        text-align: right;\n",
       "    }\n",
       "</style>\n",
       "<table border=\"1\" class=\"dataframe\">\n",
       "  <thead>\n",
       "    <tr style=\"text-align: right;\">\n",
       "      <th></th>\n",
       "      <th>Date</th>\n",
       "      <th>DCOILBRENTEU</th>\n",
       "      <th>DJIA</th>\n",
       "      <th>DCOILWTICO</th>\n",
       "      <th>DHHNGSP</th>\n",
       "      <th>GOLDAMGBD228NLBM</th>\n",
       "      <th>NASDAQCOM</th>\n",
       "      <th>SP500</th>\n",
       "      <th>WILL5000INDFC</th>\n",
       "      <th>DEXCHUS</th>\n",
       "      <th>DEXINUS</th>\n",
       "      <th>DEXJPUS</th>\n",
       "      <th>DEXUSEU</th>\n",
       "    </tr>\n",
       "  </thead>\n",
       "  <tbody>\n",
       "    <tr>\n",
       "      <td>count</td>\n",
       "      <td>13557</td>\n",
       "      <td>8563</td>\n",
       "      <td>2609</td>\n",
       "      <td>8922</td>\n",
       "      <td>6049</td>\n",
       "      <td>13557</td>\n",
       "      <td>12813</td>\n",
       "      <td>2609</td>\n",
       "      <td>12839</td>\n",
       "      <td>10226</td>\n",
       "      <td>12314</td>\n",
       "      <td>12835</td>\n",
       "      <td>5530</td>\n",
       "    </tr>\n",
       "    <tr>\n",
       "      <td>unique</td>\n",
       "      <td>13557</td>\n",
       "      <td>4614</td>\n",
       "      <td>2505</td>\n",
       "      <td>4837</td>\n",
       "      <td>897</td>\n",
       "      <td>7626</td>\n",
       "      <td>11860</td>\n",
       "      <td>2500</td>\n",
       "      <td>5373</td>\n",
       "      <td>3967</td>\n",
       "      <td>3752</td>\n",
       "      <td>6954</td>\n",
       "      <td>3413</td>\n",
       "    </tr>\n",
       "    <tr>\n",
       "      <td>top</td>\n",
       "      <td>1969-05-19</td>\n",
       "      <td>.</td>\n",
       "      <td>.</td>\n",
       "      <td>.</td>\n",
       "      <td>.</td>\n",
       "      <td>.</td>\n",
       "      <td>.</td>\n",
       "      <td>.</td>\n",
       "      <td>.</td>\n",
       "      <td>3.7314</td>\n",
       "      <td>.</td>\n",
       "      <td>.</td>\n",
       "      <td>.</td>\n",
       "    </tr>\n",
       "    <tr>\n",
       "      <td>freq</td>\n",
       "      <td>1</td>\n",
       "      <td>228</td>\n",
       "      <td>94</td>\n",
       "      <td>301</td>\n",
       "      <td>218</td>\n",
       "      <td>419</td>\n",
       "      <td>425</td>\n",
       "      <td>92</td>\n",
       "      <td>2573</td>\n",
       "      <td>789</td>\n",
       "      <td>480</td>\n",
       "      <td>499</td>\n",
       "      <td>209</td>\n",
       "    </tr>\n",
       "  </tbody>\n",
       "</table>\n",
       "</div>"
      ],
      "text/plain": [
       "              Date DCOILBRENTEU  DJIA DCOILWTICO DHHNGSP GOLDAMGBD228NLBM  \\\n",
       "count        13557         8563  2609       8922    6049            13557   \n",
       "unique       13557         4614  2505       4837     897             7626   \n",
       "top     1969-05-19            .     .          .       .                .   \n",
       "freq             1          228    94        301     218              419   \n",
       "\n",
       "       NASDAQCOM SP500 WILL5000INDFC DEXCHUS DEXINUS DEXJPUS DEXUSEU  \n",
       "count      12813  2609         12839   10226   12314   12835    5530  \n",
       "unique     11860  2500          5373    3967    3752    6954    3413  \n",
       "top            .     .             .  3.7314       .       .       .  \n",
       "freq         425    92          2573     789     480     499     209  "
      ]
     },
     "execution_count": 233,
     "metadata": {},
     "output_type": "execute_result"
    }
   ],
   "source": [
    "# Run the describe function on the columns\n",
    "data_df.describe()\n"
   ]
  },
  {
   "cell_type": "code",
   "execution_count": 234,
   "metadata": {},
   "outputs": [
    {
     "data": {
      "text/plain": [
       "Date                13557\n",
       "DCOILBRENTEU         8563\n",
       "DJIA                 2609\n",
       "DCOILWTICO           8922\n",
       "DHHNGSP              6049\n",
       "GOLDAMGBD228NLBM    13557\n",
       "NASDAQCOM           12813\n",
       "SP500                2609\n",
       "WILL5000INDFC       12839\n",
       "DEXCHUS             10226\n",
       "DEXINUS             12314\n",
       "DEXJPUS             12835\n",
       "DEXUSEU              5530\n",
       "dtype: int64"
      ]
     },
     "execution_count": 234,
     "metadata": {},
     "output_type": "execute_result"
    }
   ],
   "source": [
    "# Get the number of rows for all the columns in the dataframe\n",
    "data_df.count()\n"
   ]
  },
  {
   "cell_type": "code",
   "execution_count": 235,
   "metadata": {},
   "outputs": [],
   "source": [
    "# Export data to an excel file\n",
    "data_df.to_excel(\"Output/01_Exploration_and_Cleanup/v0_data_from_extraction.xlsx\", index=False)"
   ]
  },
  {
   "cell_type": "code",
   "execution_count": 236,
   "metadata": {},
   "outputs": [],
   "source": [
    "# Load data from the file created in the above step and create a new dataframe\n",
    "file_to_open = \"Output/01_Exploration_and_Cleanup/v0_data_from_extraction.xlsx\"\n",
    "data_df_clean_v1 = pd.read_excel(file_to_open)\n"
   ]
  },
  {
   "cell_type": "code",
   "execution_count": 237,
   "metadata": {},
   "outputs": [],
   "source": [
    "# Drop rows that contain N/A in any column\n",
    "data_df_clean_v1 = data_df.dropna(how='any')\n"
   ]
  },
  {
   "cell_type": "code",
   "execution_count": 238,
   "metadata": {},
   "outputs": [
    {
     "data": {
      "text/plain": [
       "Date                2607\n",
       "DCOILBRENTEU        2607\n",
       "DJIA                2607\n",
       "DCOILWTICO          2607\n",
       "DHHNGSP             2607\n",
       "GOLDAMGBD228NLBM    2607\n",
       "NASDAQCOM           2607\n",
       "SP500               2607\n",
       "WILL5000INDFC       2607\n",
       "DEXCHUS             2607\n",
       "DEXINUS             2607\n",
       "DEXJPUS             2607\n",
       "DEXUSEU             2607\n",
       "dtype: int64"
      ]
     },
     "execution_count": 238,
     "metadata": {},
     "output_type": "execute_result"
    }
   ],
   "source": [
    "# Count the rows \n",
    "data_df_clean_v1.count()\n"
   ]
  },
  {
   "cell_type": "code",
   "execution_count": 239,
   "metadata": {},
   "outputs": [
    {
     "data": {
      "text/plain": [
       "(2607, 13)"
      ]
     },
     "execution_count": 239,
     "metadata": {},
     "output_type": "execute_result"
    }
   ],
   "source": [
    "# Display the rows and columns \n",
    "data_df_clean_v1.shape\n"
   ]
  },
  {
   "cell_type": "code",
   "execution_count": 240,
   "metadata": {},
   "outputs": [
    {
     "data": {
      "text/plain": [
       "Index(['Date', 'DCOILBRENTEU', 'DJIA', 'DCOILWTICO', 'DHHNGSP',\n",
       "       'GOLDAMGBD228NLBM', 'NASDAQCOM', 'SP500', 'WILL5000INDFC', 'DEXCHUS',\n",
       "       'DEXINUS', 'DEXJPUS', 'DEXUSEU'],\n",
       "      dtype='object')"
      ]
     },
     "execution_count": 240,
     "metadata": {},
     "output_type": "execute_result"
    }
   ],
   "source": [
    "# Display the rows and columns \n",
    "data_df_clean_v1.columns\n"
   ]
  },
  {
   "cell_type": "code",
   "execution_count": 241,
   "metadata": {},
   "outputs": [
    {
     "data": {
      "text/plain": [
       "Date                object\n",
       "DCOILBRENTEU        object\n",
       "DJIA                object\n",
       "DCOILWTICO          object\n",
       "DHHNGSP             object\n",
       "GOLDAMGBD228NLBM    object\n",
       "NASDAQCOM           object\n",
       "SP500               object\n",
       "WILL5000INDFC       object\n",
       "DEXCHUS             object\n",
       "DEXINUS             object\n",
       "DEXJPUS             object\n",
       "DEXUSEU             object\n",
       "dtype: object"
      ]
     },
     "execution_count": 241,
     "metadata": {},
     "output_type": "execute_result"
    }
   ],
   "source": [
    "# Display the datatypes of the columns\n",
    "data_df_clean_v1.dtypes\n"
   ]
  },
  {
   "cell_type": "code",
   "execution_count": 242,
   "metadata": {},
   "outputs": [
    {
     "data": {
      "text/html": [
       "<div>\n",
       "<style scoped>\n",
       "    .dataframe tbody tr th:only-of-type {\n",
       "        vertical-align: middle;\n",
       "    }\n",
       "\n",
       "    .dataframe tbody tr th {\n",
       "        vertical-align: top;\n",
       "    }\n",
       "\n",
       "    .dataframe thead th {\n",
       "        text-align: right;\n",
       "    }\n",
       "</style>\n",
       "<table border=\"1\" class=\"dataframe\">\n",
       "  <thead>\n",
       "    <tr style=\"text-align: right;\">\n",
       "      <th></th>\n",
       "      <th>Date</th>\n",
       "      <th>DCOILBRENTEU</th>\n",
       "      <th>DJIA</th>\n",
       "      <th>DCOILWTICO</th>\n",
       "      <th>DHHNGSP</th>\n",
       "      <th>GOLDAMGBD228NLBM</th>\n",
       "      <th>NASDAQCOM</th>\n",
       "      <th>SP500</th>\n",
       "      <th>WILL5000INDFC</th>\n",
       "      <th>DEXCHUS</th>\n",
       "      <th>DEXINUS</th>\n",
       "      <th>DEXJPUS</th>\n",
       "      <th>DEXUSEU</th>\n",
       "    </tr>\n",
       "  </thead>\n",
       "  <tbody>\n",
       "    <tr>\n",
       "      <td>count</td>\n",
       "      <td>2607</td>\n",
       "      <td>2607</td>\n",
       "      <td>2607</td>\n",
       "      <td>2607</td>\n",
       "      <td>2607</td>\n",
       "      <td>2607</td>\n",
       "      <td>2607</td>\n",
       "      <td>2607</td>\n",
       "      <td>2607</td>\n",
       "      <td>2607</td>\n",
       "      <td>2607</td>\n",
       "      <td>2607</td>\n",
       "      <td>2607</td>\n",
       "    </tr>\n",
       "    <tr>\n",
       "      <td>unique</td>\n",
       "      <td>2607</td>\n",
       "      <td>2082</td>\n",
       "      <td>2503</td>\n",
       "      <td>2080</td>\n",
       "      <td>384</td>\n",
       "      <td>2060</td>\n",
       "      <td>2507</td>\n",
       "      <td>2498</td>\n",
       "      <td>2189</td>\n",
       "      <td>1950</td>\n",
       "      <td>1491</td>\n",
       "      <td>1858</td>\n",
       "      <td>1679</td>\n",
       "    </tr>\n",
       "    <tr>\n",
       "      <td>top</td>\n",
       "      <td>2017-04-24</td>\n",
       "      <td>.</td>\n",
       "      <td>.</td>\n",
       "      <td>.</td>\n",
       "      <td>.</td>\n",
       "      <td>.</td>\n",
       "      <td>.</td>\n",
       "      <td>.</td>\n",
       "      <td>.</td>\n",
       "      <td>.</td>\n",
       "      <td>.</td>\n",
       "      <td>.</td>\n",
       "      <td>.</td>\n",
       "    </tr>\n",
       "    <tr>\n",
       "      <td>freq</td>\n",
       "      <td>1</td>\n",
       "      <td>74</td>\n",
       "      <td>94</td>\n",
       "      <td>93</td>\n",
       "      <td>72</td>\n",
       "      <td>85</td>\n",
       "      <td>91</td>\n",
       "      <td>92</td>\n",
       "      <td>92</td>\n",
       "      <td>106</td>\n",
       "      <td>106</td>\n",
       "      <td>106</td>\n",
       "      <td>106</td>\n",
       "    </tr>\n",
       "  </tbody>\n",
       "</table>\n",
       "</div>"
      ],
      "text/plain": [
       "              Date DCOILBRENTEU  DJIA DCOILWTICO DHHNGSP GOLDAMGBD228NLBM  \\\n",
       "count         2607         2607  2607       2607    2607             2607   \n",
       "unique        2607         2082  2503       2080     384             2060   \n",
       "top     2017-04-24            .     .          .       .                .   \n",
       "freq             1           74    94         93      72               85   \n",
       "\n",
       "       NASDAQCOM SP500 WILL5000INDFC DEXCHUS DEXINUS DEXJPUS DEXUSEU  \n",
       "count       2607  2607          2607    2607    2607    2607    2607  \n",
       "unique      2507  2498          2189    1950    1491    1858    1679  \n",
       "top            .     .             .       .       .       .       .  \n",
       "freq          91    92            92     106     106     106     106  "
      ]
     },
     "execution_count": 242,
     "metadata": {},
     "output_type": "execute_result"
    }
   ],
   "source": [
    "# Run the describe function on the columns\n",
    "data_df_clean_v1.describe()\n"
   ]
  },
  {
   "cell_type": "code",
   "execution_count": 243,
   "metadata": {},
   "outputs": [],
   "source": [
    "# Export the data to an excel file\n",
    "data_df_clean_v1.to_excel(\"Output/01_Exploration_and_Cleanup/v1_clean_data_dropped_NAs.xlsx\", index=False)\n"
   ]
  },
  {
   "cell_type": "code",
   "execution_count": 244,
   "metadata": {},
   "outputs": [],
   "source": [
    "# Read the data from the file exported above and create a new dataframe\n",
    "file_to_open = \"Output/01_Exploration_and_Cleanup/v1_clean_data_dropped_NAs.xlsx\"\n",
    "data_df_clean_v2 = pd.read_excel(file_to_open)"
   ]
  },
  {
   "cell_type": "code",
   "execution_count": 245,
   "metadata": {},
   "outputs": [],
   "source": [
    "# Drop teh rows containing zeroes\n",
    "data_df_clean_v2 = data_df_clean_v1[data_df_clean_v1.loc[:]!=0].dropna()\n"
   ]
  },
  {
   "cell_type": "code",
   "execution_count": 246,
   "metadata": {},
   "outputs": [],
   "source": [
    "# Drop the rows containing spaces\n",
    "nan_value = float(\"NaN\")\n",
    "data_df_clean_v2.replace(\"\", nan_value, inplace=True)\n",
    "data_df_clean_v2.dropna(subset = [\"DJIA\"], inplace=True)\n",
    "\n",
    "# Drop the rows containing periods\n",
    "nan_value = float(\"NaN\")\n",
    "data_df_clean_v2.replace(\".\", nan_value, inplace=True)\n",
    "data_df_clean_v2.dropna(subset = [\"DJIA\"], inplace=True)"
   ]
  },
  {
   "cell_type": "code",
   "execution_count": 247,
   "metadata": {},
   "outputs": [],
   "source": [
    "# Drop the rows containing spaces\n",
    "nan_value = float(\"NaN\")\n",
    "data_df_clean_v2.replace(\"\", nan_value, inplace=True)\n",
    "data_df_clean_v2.dropna(subset = [\"DCOILBRENTEU\"], inplace=True)\n",
    "\n",
    "# Drop the rows containing periods\n",
    "nan_value = float(\"NaN\")\n",
    "data_df_clean_v2.replace(\".\", nan_value, inplace=True)\n",
    "data_df_clean_v2.dropna(subset = [\"DCOILBRENTEU\"], inplace=True)"
   ]
  },
  {
   "cell_type": "code",
   "execution_count": 248,
   "metadata": {},
   "outputs": [],
   "source": [
    "# Drop the rows containing spaces\n",
    "nan_value = float(\"NaN\")\n",
    "data_df_clean_v2.replace(\"\", nan_value, inplace=True)\n",
    "data_df_clean_v2.dropna(subset = [\"DCOILWTICO\"], inplace=True)\n",
    "\n",
    "# Drop the rows containing periods\n",
    "nan_value = float(\"NaN\")\n",
    "data_df_clean_v2.replace(\".\", nan_value, inplace=True)\n",
    "data_df_clean_v2.dropna(subset = [\"DCOILWTICO\"], inplace=True)"
   ]
  },
  {
   "cell_type": "code",
   "execution_count": 249,
   "metadata": {},
   "outputs": [],
   "source": [
    "# Drop the rows containing spaces\n",
    "nan_value = float(\"NaN\")\n",
    "data_df_clean_v2.replace(\"\", nan_value, inplace=True)\n",
    "data_df_clean_v2.dropna(subset = [\"DHHNGSP\"], inplace=True)\n",
    "\n",
    "# Drop the rows containing periods\n",
    "nan_value = float(\"NaN\")\n",
    "data_df_clean_v2.replace(\".\", nan_value, inplace=True)\n",
    "data_df_clean_v2.dropna(subset = [\"DHHNGSP\"], inplace=True)"
   ]
  },
  {
   "cell_type": "code",
   "execution_count": 250,
   "metadata": {},
   "outputs": [],
   "source": [
    "# Drop the rows containing spaces\n",
    "nan_value = float(\"NaN\")\n",
    "data_df_clean_v2.replace(\"\", nan_value, inplace=True)\n",
    "data_df_clean_v2.dropna(subset = [\"GOLDAMGBD228NLBM\"], inplace=True)\n",
    "\n",
    "# Drop the rows containing periods\n",
    "nan_value = float(\"NaN\")\n",
    "data_df_clean_v2.replace(\".\", nan_value, inplace=True)\n",
    "data_df_clean_v2.dropna(subset = [\"GOLDAMGBD228NLBM\"], inplace=True)"
   ]
  },
  {
   "cell_type": "code",
   "execution_count": 251,
   "metadata": {},
   "outputs": [],
   "source": [
    "# Drop the rows containing spaces\n",
    "nan_value = float(\"NaN\")\n",
    "data_df_clean_v2.replace(\"\", nan_value, inplace=True)\n",
    "data_df_clean_v2.dropna(subset = [\"NASDAQCOM\"], inplace=True)\n",
    "\n",
    "# Drop the rows containing periods\n",
    "nan_value = float(\"NaN\")\n",
    "data_df_clean_v2.replace(\".\", nan_value, inplace=True)\n",
    "data_df_clean_v2.dropna(subset = [\"NASDAQCOM\"], inplace=True)"
   ]
  },
  {
   "cell_type": "code",
   "execution_count": 252,
   "metadata": {},
   "outputs": [],
   "source": [
    "# Drop the rows containing spaces\n",
    "nan_value = float(\"NaN\")\n",
    "data_df_clean_v2.replace(\"\", nan_value, inplace=True)\n",
    "data_df_clean_v2.dropna(subset = [\"SP500\"], inplace=True)\n",
    "\n",
    "# Drop the rows containing periods\n",
    "nan_value = float(\"NaN\")\n",
    "data_df_clean_v2.replace(\".\", nan_value, inplace=True)\n",
    "data_df_clean_v2.dropna(subset = [\"SP500\"], inplace=True)"
   ]
  },
  {
   "cell_type": "code",
   "execution_count": 253,
   "metadata": {},
   "outputs": [],
   "source": [
    "# Drop the rows containing spaces\n",
    "nan_value = float(\"NaN\")\n",
    "data_df_clean_v2.replace(\"\", nan_value, inplace=True)\n",
    "data_df_clean_v2.dropna(subset = [\"WILL5000INDFC\"], inplace=True)\n",
    "\n",
    "# Drop the rows containing periods\n",
    "nan_value = float(\"NaN\")\n",
    "data_df_clean_v2.replace(\".\", nan_value, inplace=True)\n",
    "data_df_clean_v2.dropna(subset = [\"WILL5000INDFC\"], inplace=True)"
   ]
  },
  {
   "cell_type": "code",
   "execution_count": 254,
   "metadata": {},
   "outputs": [],
   "source": [
    "# Drop the rows containing spaces\n",
    "nan_value = float(\"NaN\")\n",
    "data_df_clean_v2.replace(\"\", nan_value, inplace=True)\n",
    "data_df_clean_v2.dropna(subset = [\"DEXCHUS\"], inplace=True)\n",
    "\n",
    "# Drop the rows containing periods\n",
    "nan_value = float(\"NaN\")\n",
    "data_df_clean_v2.replace(\".\", nan_value, inplace=True)\n",
    "data_df_clean_v2.dropna(subset = [\"DEXCHUS\"], inplace=True)"
   ]
  },
  {
   "cell_type": "code",
   "execution_count": 255,
   "metadata": {},
   "outputs": [],
   "source": [
    "# Drop the rows containing spaces\n",
    "nan_value = float(\"NaN\")\n",
    "data_df_clean_v2.replace(\"\", nan_value, inplace=True)\n",
    "data_df_clean_v2.dropna(subset = [\"DEXINUS\"], inplace=True)\n",
    "\n",
    "# Drop the rows containing periods\n",
    "nan_value = float(\"NaN\")\n",
    "data_df_clean_v2.replace(\".\", nan_value, inplace=True)\n",
    "data_df_clean_v2.dropna(subset = [\"DEXINUS\"], inplace=True)"
   ]
  },
  {
   "cell_type": "code",
   "execution_count": 256,
   "metadata": {},
   "outputs": [],
   "source": [
    "# Drop the rows containing spaces\n",
    "nan_value = float(\"NaN\")\n",
    "data_df_clean_v2.replace(\"\", nan_value, inplace=True)\n",
    "data_df_clean_v2.dropna(subset = [\"DEXJPUS\"], inplace=True)\n",
    "\n",
    "# Drop the rows containing periods\n",
    "nan_value = float(\"NaN\")\n",
    "data_df_clean_v2.replace(\".\", nan_value, inplace=True)\n",
    "data_df_clean_v2.dropna(subset = [\"DEXJPUS\"], inplace=True)"
   ]
  },
  {
   "cell_type": "code",
   "execution_count": 257,
   "metadata": {},
   "outputs": [],
   "source": [
    "# Drop the rows containing spaces\n",
    "nan_value = float(\"NaN\")\n",
    "data_df_clean_v2.replace(\"\", nan_value, inplace=True)\n",
    "data_df_clean_v2.dropna(subset = [\"DEXUSEU\"], inplace=True)\n",
    "\n",
    "# Drop the rows containing spaces\n",
    "nan_value = float(\"NaN\")\n",
    "data_df_clean_v2.replace(\".\", nan_value, inplace=True)\n",
    "data_df_clean_v2.dropna(subset = [\"DEXUSEU\"], inplace=True)"
   ]
  },
  {
   "cell_type": "code",
   "execution_count": 258,
   "metadata": {},
   "outputs": [],
   "source": [
    "# Convert to float\n",
    "data_df_clean_v2[\"DJIA\"] = data_df_clean_v2[\"DJIA\"].astype(float)"
   ]
  },
  {
   "cell_type": "code",
   "execution_count": 259,
   "metadata": {},
   "outputs": [],
   "source": [
    "# Convert to float\n",
    "data_df_clean_v2[\"DCOILBRENTEU\"] = data_df_clean_v2[\"DCOILBRENTEU\"].astype(float)"
   ]
  },
  {
   "cell_type": "code",
   "execution_count": 260,
   "metadata": {},
   "outputs": [],
   "source": [
    "# Convert to float\n",
    "data_df_clean_v2[\"DCOILWTICO\"] = data_df_clean_v2[\"DCOILWTICO\"].astype(float)"
   ]
  },
  {
   "cell_type": "code",
   "execution_count": 261,
   "metadata": {},
   "outputs": [],
   "source": [
    "# Convert to float\n",
    "data_df_clean_v2[\"DHHNGSP\"] = data_df_clean_v2[\"DHHNGSP\"].astype(float)"
   ]
  },
  {
   "cell_type": "code",
   "execution_count": 262,
   "metadata": {},
   "outputs": [],
   "source": [
    "# Convert to float\n",
    "data_df_clean_v2[\"GOLDAMGBD228NLBM\"] = data_df_clean_v2[\"GOLDAMGBD228NLBM\"].astype(float)"
   ]
  },
  {
   "cell_type": "code",
   "execution_count": 263,
   "metadata": {},
   "outputs": [],
   "source": [
    "# Convert to float\n",
    "data_df_clean_v2[\"NASDAQCOM\"] = data_df_clean_v2[\"NASDAQCOM\"].astype(float)"
   ]
  },
  {
   "cell_type": "code",
   "execution_count": 264,
   "metadata": {},
   "outputs": [],
   "source": [
    "# Convert to float\n",
    "data_df_clean_v2[\"SP500\"] = data_df_clean_v2[\"SP500\"].astype(float)"
   ]
  },
  {
   "cell_type": "code",
   "execution_count": 265,
   "metadata": {},
   "outputs": [],
   "source": [
    "# Convert to float\n",
    "data_df_clean_v2[\"WILL5000INDFC\"] = data_df_clean_v2[\"WILL5000INDFC\"].astype(float)"
   ]
  },
  {
   "cell_type": "code",
   "execution_count": 266,
   "metadata": {},
   "outputs": [],
   "source": [
    "# Convert to float\n",
    "data_df_clean_v2[\"DEXCHUS\"] = data_df_clean_v2[\"DEXCHUS\"].astype(float)"
   ]
  },
  {
   "cell_type": "code",
   "execution_count": 267,
   "metadata": {},
   "outputs": [],
   "source": [
    "# Convert to float\n",
    "data_df_clean_v2[\"DEXINUS\"] = data_df_clean_v2[\"DEXINUS\"].astype(float)"
   ]
  },
  {
   "cell_type": "code",
   "execution_count": 268,
   "metadata": {},
   "outputs": [],
   "source": [
    "# Convert to float\n",
    "data_df_clean_v2[\"DEXJPUS\"] = data_df_clean_v2[\"DEXJPUS\"].astype(float)"
   ]
  },
  {
   "cell_type": "code",
   "execution_count": 269,
   "metadata": {},
   "outputs": [],
   "source": [
    "# Convert to float\n",
    "data_df_clean_v2[\"DEXUSEU\"] = data_df_clean_v2[\"DEXUSEU\"].astype(float)"
   ]
  },
  {
   "cell_type": "code",
   "execution_count": 270,
   "metadata": {},
   "outputs": [
    {
     "data": {
      "text/plain": [
       "Date                 object\n",
       "DCOILBRENTEU        float64\n",
       "DJIA                float64\n",
       "DCOILWTICO          float64\n",
       "DHHNGSP             float64\n",
       "GOLDAMGBD228NLBM    float64\n",
       "NASDAQCOM           float64\n",
       "SP500               float64\n",
       "WILL5000INDFC       float64\n",
       "DEXCHUS             float64\n",
       "DEXINUS             float64\n",
       "DEXJPUS             float64\n",
       "DEXUSEU             float64\n",
       "dtype: object"
      ]
     },
     "execution_count": 270,
     "metadata": {},
     "output_type": "execute_result"
    }
   ],
   "source": [
    "# Display the datatypes for all columns\n",
    "data_df_clean_v2.dtypes"
   ]
  },
  {
   "cell_type": "code",
   "execution_count": 271,
   "metadata": {},
   "outputs": [
    {
     "data": {
      "text/plain": [
       "Date                2436\n",
       "DCOILBRENTEU        2436\n",
       "DJIA                2436\n",
       "DCOILWTICO          2436\n",
       "DHHNGSP             2436\n",
       "GOLDAMGBD228NLBM    2436\n",
       "NASDAQCOM           2436\n",
       "SP500               2436\n",
       "WILL5000INDFC       2436\n",
       "DEXCHUS             2436\n",
       "DEXINUS             2436\n",
       "DEXJPUS             2436\n",
       "DEXUSEU             2436\n",
       "dtype: int64"
      ]
     },
     "execution_count": 271,
     "metadata": {},
     "output_type": "execute_result"
    }
   ],
   "source": [
    "# Count the rows for all columns\n",
    "data_df_clean_v2.count()"
   ]
  },
  {
   "cell_type": "code",
   "execution_count": 272,
   "metadata": {},
   "outputs": [
    {
     "data": {
      "text/plain": [
       "(2436, 13)"
      ]
     },
     "execution_count": 272,
     "metadata": {},
     "output_type": "execute_result"
    }
   ],
   "source": [
    "# Display the count of rows and columns\n",
    "data_df_clean_v2.shape\n"
   ]
  },
  {
   "cell_type": "code",
   "execution_count": 273,
   "metadata": {},
   "outputs": [
    {
     "data": {
      "text/plain": [
       "Index(['Date', 'DCOILBRENTEU', 'DJIA', 'DCOILWTICO', 'DHHNGSP',\n",
       "       'GOLDAMGBD228NLBM', 'NASDAQCOM', 'SP500', 'WILL5000INDFC', 'DEXCHUS',\n",
       "       'DEXINUS', 'DEXJPUS', 'DEXUSEU'],\n",
       "      dtype='object')"
      ]
     },
     "execution_count": 273,
     "metadata": {},
     "output_type": "execute_result"
    }
   ],
   "source": [
    "# Display the column names\n",
    "data_df_clean_v2.columns"
   ]
  },
  {
   "cell_type": "code",
   "execution_count": 274,
   "metadata": {},
   "outputs": [
    {
     "data": {
      "text/plain": [
       "Date                 object\n",
       "DCOILBRENTEU        float64\n",
       "DJIA                float64\n",
       "DCOILWTICO          float64\n",
       "DHHNGSP             float64\n",
       "GOLDAMGBD228NLBM    float64\n",
       "NASDAQCOM           float64\n",
       "SP500               float64\n",
       "WILL5000INDFC       float64\n",
       "DEXCHUS             float64\n",
       "DEXINUS             float64\n",
       "DEXJPUS             float64\n",
       "DEXUSEU             float64\n",
       "dtype: object"
      ]
     },
     "execution_count": 274,
     "metadata": {},
     "output_type": "execute_result"
    }
   ],
   "source": [
    "# Display the datatypes\n",
    "data_df_clean_v2.dtypes"
   ]
  },
  {
   "cell_type": "code",
   "execution_count": 275,
   "metadata": {},
   "outputs": [
    {
     "data": {
      "text/html": [
       "<div>\n",
       "<style scoped>\n",
       "    .dataframe tbody tr th:only-of-type {\n",
       "        vertical-align: middle;\n",
       "    }\n",
       "\n",
       "    .dataframe tbody tr th {\n",
       "        vertical-align: top;\n",
       "    }\n",
       "\n",
       "    .dataframe thead th {\n",
       "        text-align: right;\n",
       "    }\n",
       "</style>\n",
       "<table border=\"1\" class=\"dataframe\">\n",
       "  <thead>\n",
       "    <tr style=\"text-align: right;\">\n",
       "      <th></th>\n",
       "      <th>DCOILBRENTEU</th>\n",
       "      <th>DJIA</th>\n",
       "      <th>DCOILWTICO</th>\n",
       "      <th>DHHNGSP</th>\n",
       "      <th>GOLDAMGBD228NLBM</th>\n",
       "      <th>NASDAQCOM</th>\n",
       "      <th>SP500</th>\n",
       "      <th>WILL5000INDFC</th>\n",
       "      <th>DEXCHUS</th>\n",
       "      <th>DEXINUS</th>\n",
       "      <th>DEXJPUS</th>\n",
       "      <th>DEXUSEU</th>\n",
       "    </tr>\n",
       "  </thead>\n",
       "  <tbody>\n",
       "    <tr>\n",
       "      <td>count</td>\n",
       "      <td>2436.000000</td>\n",
       "      <td>2436.000000</td>\n",
       "      <td>2436.000000</td>\n",
       "      <td>2436.000000</td>\n",
       "      <td>2436.000000</td>\n",
       "      <td>2436.000000</td>\n",
       "      <td>2436.000000</td>\n",
       "      <td>2436.000000</td>\n",
       "      <td>2436.000000</td>\n",
       "      <td>2436.000000</td>\n",
       "      <td>2436.000000</td>\n",
       "      <td>2436.000000</td>\n",
       "    </tr>\n",
       "    <tr>\n",
       "      <td>mean</td>\n",
       "      <td>79.177783</td>\n",
       "      <td>17946.284860</td>\n",
       "      <td>71.897036</td>\n",
       "      <td>3.241067</td>\n",
       "      <td>1356.465948</td>\n",
       "      <td>4878.058072</td>\n",
       "      <td>2003.397701</td>\n",
       "      <td>89.757635</td>\n",
       "      <td>6.506055</td>\n",
       "      <td>60.556976</td>\n",
       "      <td>101.586129</td>\n",
       "      <td>1.225251</td>\n",
       "    </tr>\n",
       "    <tr>\n",
       "      <td>std</td>\n",
       "      <td>26.383881</td>\n",
       "      <td>5236.744309</td>\n",
       "      <td>22.154591</td>\n",
       "      <td>0.837332</td>\n",
       "      <td>179.028310</td>\n",
       "      <td>1940.353305</td>\n",
       "      <td>600.649600</td>\n",
       "      <td>31.002341</td>\n",
       "      <td>0.288440</td>\n",
       "      <td>8.562857</td>\n",
       "      <td>14.002602</td>\n",
       "      <td>0.112174</td>\n",
       "    </tr>\n",
       "    <tr>\n",
       "      <td>min</td>\n",
       "      <td>26.010000</td>\n",
       "      <td>9686.480000</td>\n",
       "      <td>26.190000</td>\n",
       "      <td>1.490000</td>\n",
       "      <td>1050.600000</td>\n",
       "      <td>2091.790000</td>\n",
       "      <td>1022.580000</td>\n",
       "      <td>41.150000</td>\n",
       "      <td>6.040200</td>\n",
       "      <td>43.900000</td>\n",
       "      <td>75.720000</td>\n",
       "      <td>1.037500</td>\n",
       "    </tr>\n",
       "    <tr>\n",
       "      <td>25%</td>\n",
       "      <td>56.167500</td>\n",
       "      <td>13167.747500</td>\n",
       "      <td>51.822500</td>\n",
       "      <td>2.700000</td>\n",
       "      <td>1230.537500</td>\n",
       "      <td>3040.517500</td>\n",
       "      <td>1409.677500</td>\n",
       "      <td>59.102500</td>\n",
       "      <td>6.236225</td>\n",
       "      <td>54.295000</td>\n",
       "      <td>88.220000</td>\n",
       "      <td>1.121200</td>\n",
       "    </tr>\n",
       "    <tr>\n",
       "      <td>50%</td>\n",
       "      <td>74.290000</td>\n",
       "      <td>17193.395000</td>\n",
       "      <td>68.790000</td>\n",
       "      <td>3.045000</td>\n",
       "      <td>1299.500000</td>\n",
       "      <td>4705.055000</td>\n",
       "      <td>2011.315000</td>\n",
       "      <td>88.905000</td>\n",
       "      <td>6.472650</td>\n",
       "      <td>63.250000</td>\n",
       "      <td>106.050000</td>\n",
       "      <td>1.220850</td>\n",
       "    </tr>\n",
       "    <tr>\n",
       "      <td>75%</td>\n",
       "      <td>107.917500</td>\n",
       "      <td>22050.867500</td>\n",
       "      <td>93.542500</td>\n",
       "      <td>3.850000</td>\n",
       "      <td>1473.162500</td>\n",
       "      <td>6401.105000</td>\n",
       "      <td>2476.620000</td>\n",
       "      <td>113.972500</td>\n",
       "      <td>6.772000</td>\n",
       "      <td>66.950000</td>\n",
       "      <td>111.642500</td>\n",
       "      <td>1.325600</td>\n",
       "    </tr>\n",
       "    <tr>\n",
       "      <td>max</td>\n",
       "      <td>128.140000</td>\n",
       "      <td>29551.420000</td>\n",
       "      <td>112.380000</td>\n",
       "      <td>8.150000</td>\n",
       "      <td>1891.000000</td>\n",
       "      <td>9817.180000</td>\n",
       "      <td>3386.150000</td>\n",
       "      <td>160.950000</td>\n",
       "      <td>7.178600</td>\n",
       "      <td>74.330000</td>\n",
       "      <td>125.580000</td>\n",
       "      <td>1.487500</td>\n",
       "    </tr>\n",
       "  </tbody>\n",
       "</table>\n",
       "</div>"
      ],
      "text/plain": [
       "       DCOILBRENTEU          DJIA   DCOILWTICO      DHHNGSP  GOLDAMGBD228NLBM  \\\n",
       "count   2436.000000   2436.000000  2436.000000  2436.000000       2436.000000   \n",
       "mean      79.177783  17946.284860    71.897036     3.241067       1356.465948   \n",
       "std       26.383881   5236.744309    22.154591     0.837332        179.028310   \n",
       "min       26.010000   9686.480000    26.190000     1.490000       1050.600000   \n",
       "25%       56.167500  13167.747500    51.822500     2.700000       1230.537500   \n",
       "50%       74.290000  17193.395000    68.790000     3.045000       1299.500000   \n",
       "75%      107.917500  22050.867500    93.542500     3.850000       1473.162500   \n",
       "max      128.140000  29551.420000   112.380000     8.150000       1891.000000   \n",
       "\n",
       "         NASDAQCOM        SP500  WILL5000INDFC      DEXCHUS      DEXINUS  \\\n",
       "count  2436.000000  2436.000000    2436.000000  2436.000000  2436.000000   \n",
       "mean   4878.058072  2003.397701      89.757635     6.506055    60.556976   \n",
       "std    1940.353305   600.649600      31.002341     0.288440     8.562857   \n",
       "min    2091.790000  1022.580000      41.150000     6.040200    43.900000   \n",
       "25%    3040.517500  1409.677500      59.102500     6.236225    54.295000   \n",
       "50%    4705.055000  2011.315000      88.905000     6.472650    63.250000   \n",
       "75%    6401.105000  2476.620000     113.972500     6.772000    66.950000   \n",
       "max    9817.180000  3386.150000     160.950000     7.178600    74.330000   \n",
       "\n",
       "           DEXJPUS      DEXUSEU  \n",
       "count  2436.000000  2436.000000  \n",
       "mean    101.586129     1.225251  \n",
       "std      14.002602     0.112174  \n",
       "min      75.720000     1.037500  \n",
       "25%      88.220000     1.121200  \n",
       "50%     106.050000     1.220850  \n",
       "75%     111.642500     1.325600  \n",
       "max     125.580000     1.487500  "
      ]
     },
     "execution_count": 275,
     "metadata": {},
     "output_type": "execute_result"
    }
   ],
   "source": [
    "# Run the describe function \n",
    "data_df_clean_v2.describe()"
   ]
  },
  {
   "cell_type": "code",
   "execution_count": 276,
   "metadata": {},
   "outputs": [],
   "source": [
    "# Export the data \n",
    "data_df_clean_v2.to_excel(\"Output/01_Exploration_and_Cleanup/v2_clean_data_dropped_spaces_periods_&_conv_to_float.xlsx\", index=False)\n"
   ]
  },
  {
   "cell_type": "code",
   "execution_count": 277,
   "metadata": {},
   "outputs": [],
   "source": [
    "# Load the data that was exported in the step above and create a new dataframe\n",
    "file_to_open = \"Output/01_Exploration_and_Cleanup/v2_clean_data_dropped_spaces_periods_&_conv_to_float.xlsx\"\n",
    "data_df_clean_v3 = pd.read_excel(file_to_open)\n",
    "\n"
   ]
  },
  {
   "cell_type": "code",
   "execution_count": 278,
   "metadata": {},
   "outputs": [
    {
     "data": {
      "text/plain": [
       "Date                2436\n",
       "DCOILBRENTEU        2436\n",
       "DJIA                2436\n",
       "DCOILWTICO          2436\n",
       "DHHNGSP             2436\n",
       "GOLDAMGBD228NLBM    2436\n",
       "NASDAQCOM           2436\n",
       "SP500               2436\n",
       "WILL5000INDFC       2436\n",
       "DEXCHUS             2436\n",
       "DEXINUS             2436\n",
       "DEXJPUS             2436\n",
       "DEXUSEU             2436\n",
       "dtype: int64"
      ]
     },
     "execution_count": 278,
     "metadata": {},
     "output_type": "execute_result"
    }
   ],
   "source": [
    "# Count the rows\n",
    "data_df_clean_v3.count()"
   ]
  },
  {
   "cell_type": "code",
   "execution_count": 279,
   "metadata": {},
   "outputs": [
    {
     "data": {
      "text/plain": [
       "(2436, 13)"
      ]
     },
     "execution_count": 279,
     "metadata": {},
     "output_type": "execute_result"
    }
   ],
   "source": [
    "# Dispaly the count of the rows and columns\n",
    "data_df_clean_v3.shape"
   ]
  },
  {
   "cell_type": "code",
   "execution_count": 280,
   "metadata": {},
   "outputs": [
    {
     "data": {
      "text/plain": [
       "Index(['Date', 'DCOILBRENTEU', 'DJIA', 'DCOILWTICO', 'DHHNGSP',\n",
       "       'GOLDAMGBD228NLBM', 'NASDAQCOM', 'SP500', 'WILL5000INDFC', 'DEXCHUS',\n",
       "       'DEXINUS', 'DEXJPUS', 'DEXUSEU'],\n",
       "      dtype='object')"
      ]
     },
     "execution_count": 280,
     "metadata": {},
     "output_type": "execute_result"
    }
   ],
   "source": [
    "# Dispaly the column names\n",
    "data_df_clean_v3.columns"
   ]
  },
  {
   "cell_type": "code",
   "execution_count": 281,
   "metadata": {},
   "outputs": [
    {
     "data": {
      "text/plain": [
       "Date                 object\n",
       "DCOILBRENTEU        float64\n",
       "DJIA                float64\n",
       "DCOILWTICO          float64\n",
       "DHHNGSP             float64\n",
       "GOLDAMGBD228NLBM    float64\n",
       "NASDAQCOM           float64\n",
       "SP500               float64\n",
       "WILL5000INDFC       float64\n",
       "DEXCHUS             float64\n",
       "DEXINUS             float64\n",
       "DEXJPUS             float64\n",
       "DEXUSEU             float64\n",
       "dtype: object"
      ]
     },
     "execution_count": 281,
     "metadata": {},
     "output_type": "execute_result"
    }
   ],
   "source": [
    "# Dispaly the datatypes for the columns\n",
    "data_df_clean_v3.dtypes"
   ]
  },
  {
   "cell_type": "code",
   "execution_count": 282,
   "metadata": {},
   "outputs": [
    {
     "data": {
      "text/html": [
       "<div>\n",
       "<style scoped>\n",
       "    .dataframe tbody tr th:only-of-type {\n",
       "        vertical-align: middle;\n",
       "    }\n",
       "\n",
       "    .dataframe tbody tr th {\n",
       "        vertical-align: top;\n",
       "    }\n",
       "\n",
       "    .dataframe thead th {\n",
       "        text-align: right;\n",
       "    }\n",
       "</style>\n",
       "<table border=\"1\" class=\"dataframe\">\n",
       "  <thead>\n",
       "    <tr style=\"text-align: right;\">\n",
       "      <th></th>\n",
       "      <th>DCOILBRENTEU</th>\n",
       "      <th>DJIA</th>\n",
       "      <th>DCOILWTICO</th>\n",
       "      <th>DHHNGSP</th>\n",
       "      <th>GOLDAMGBD228NLBM</th>\n",
       "      <th>NASDAQCOM</th>\n",
       "      <th>SP500</th>\n",
       "      <th>WILL5000INDFC</th>\n",
       "      <th>DEXCHUS</th>\n",
       "      <th>DEXINUS</th>\n",
       "      <th>DEXJPUS</th>\n",
       "      <th>DEXUSEU</th>\n",
       "    </tr>\n",
       "  </thead>\n",
       "  <tbody>\n",
       "    <tr>\n",
       "      <td>count</td>\n",
       "      <td>2436.000000</td>\n",
       "      <td>2436.000000</td>\n",
       "      <td>2436.000000</td>\n",
       "      <td>2436.000000</td>\n",
       "      <td>2436.000000</td>\n",
       "      <td>2436.000000</td>\n",
       "      <td>2436.000000</td>\n",
       "      <td>2436.000000</td>\n",
       "      <td>2436.000000</td>\n",
       "      <td>2436.000000</td>\n",
       "      <td>2436.000000</td>\n",
       "      <td>2436.000000</td>\n",
       "    </tr>\n",
       "    <tr>\n",
       "      <td>mean</td>\n",
       "      <td>79.177783</td>\n",
       "      <td>17946.284860</td>\n",
       "      <td>71.897036</td>\n",
       "      <td>3.241067</td>\n",
       "      <td>1356.465948</td>\n",
       "      <td>4878.058072</td>\n",
       "      <td>2003.397701</td>\n",
       "      <td>89.757635</td>\n",
       "      <td>6.506055</td>\n",
       "      <td>60.556976</td>\n",
       "      <td>101.586129</td>\n",
       "      <td>1.225251</td>\n",
       "    </tr>\n",
       "    <tr>\n",
       "      <td>std</td>\n",
       "      <td>26.383881</td>\n",
       "      <td>5236.744309</td>\n",
       "      <td>22.154591</td>\n",
       "      <td>0.837332</td>\n",
       "      <td>179.028310</td>\n",
       "      <td>1940.353305</td>\n",
       "      <td>600.649600</td>\n",
       "      <td>31.002341</td>\n",
       "      <td>0.288440</td>\n",
       "      <td>8.562857</td>\n",
       "      <td>14.002602</td>\n",
       "      <td>0.112174</td>\n",
       "    </tr>\n",
       "    <tr>\n",
       "      <td>min</td>\n",
       "      <td>26.010000</td>\n",
       "      <td>9686.480000</td>\n",
       "      <td>26.190000</td>\n",
       "      <td>1.490000</td>\n",
       "      <td>1050.600000</td>\n",
       "      <td>2091.790000</td>\n",
       "      <td>1022.580000</td>\n",
       "      <td>41.150000</td>\n",
       "      <td>6.040200</td>\n",
       "      <td>43.900000</td>\n",
       "      <td>75.720000</td>\n",
       "      <td>1.037500</td>\n",
       "    </tr>\n",
       "    <tr>\n",
       "      <td>25%</td>\n",
       "      <td>56.167500</td>\n",
       "      <td>13167.747500</td>\n",
       "      <td>51.822500</td>\n",
       "      <td>2.700000</td>\n",
       "      <td>1230.537500</td>\n",
       "      <td>3040.517500</td>\n",
       "      <td>1409.677500</td>\n",
       "      <td>59.102500</td>\n",
       "      <td>6.236225</td>\n",
       "      <td>54.295000</td>\n",
       "      <td>88.220000</td>\n",
       "      <td>1.121200</td>\n",
       "    </tr>\n",
       "    <tr>\n",
       "      <td>50%</td>\n",
       "      <td>74.290000</td>\n",
       "      <td>17193.395000</td>\n",
       "      <td>68.790000</td>\n",
       "      <td>3.045000</td>\n",
       "      <td>1299.500000</td>\n",
       "      <td>4705.055000</td>\n",
       "      <td>2011.315000</td>\n",
       "      <td>88.905000</td>\n",
       "      <td>6.472650</td>\n",
       "      <td>63.250000</td>\n",
       "      <td>106.050000</td>\n",
       "      <td>1.220850</td>\n",
       "    </tr>\n",
       "    <tr>\n",
       "      <td>75%</td>\n",
       "      <td>107.917500</td>\n",
       "      <td>22050.867500</td>\n",
       "      <td>93.542500</td>\n",
       "      <td>3.850000</td>\n",
       "      <td>1473.162500</td>\n",
       "      <td>6401.105000</td>\n",
       "      <td>2476.620000</td>\n",
       "      <td>113.972500</td>\n",
       "      <td>6.772000</td>\n",
       "      <td>66.950000</td>\n",
       "      <td>111.642500</td>\n",
       "      <td>1.325600</td>\n",
       "    </tr>\n",
       "    <tr>\n",
       "      <td>max</td>\n",
       "      <td>128.140000</td>\n",
       "      <td>29551.420000</td>\n",
       "      <td>112.380000</td>\n",
       "      <td>8.150000</td>\n",
       "      <td>1891.000000</td>\n",
       "      <td>9817.180000</td>\n",
       "      <td>3386.150000</td>\n",
       "      <td>160.950000</td>\n",
       "      <td>7.178600</td>\n",
       "      <td>74.330000</td>\n",
       "      <td>125.580000</td>\n",
       "      <td>1.487500</td>\n",
       "    </tr>\n",
       "  </tbody>\n",
       "</table>\n",
       "</div>"
      ],
      "text/plain": [
       "       DCOILBRENTEU          DJIA   DCOILWTICO      DHHNGSP  GOLDAMGBD228NLBM  \\\n",
       "count   2436.000000   2436.000000  2436.000000  2436.000000       2436.000000   \n",
       "mean      79.177783  17946.284860    71.897036     3.241067       1356.465948   \n",
       "std       26.383881   5236.744309    22.154591     0.837332        179.028310   \n",
       "min       26.010000   9686.480000    26.190000     1.490000       1050.600000   \n",
       "25%       56.167500  13167.747500    51.822500     2.700000       1230.537500   \n",
       "50%       74.290000  17193.395000    68.790000     3.045000       1299.500000   \n",
       "75%      107.917500  22050.867500    93.542500     3.850000       1473.162500   \n",
       "max      128.140000  29551.420000   112.380000     8.150000       1891.000000   \n",
       "\n",
       "         NASDAQCOM        SP500  WILL5000INDFC      DEXCHUS      DEXINUS  \\\n",
       "count  2436.000000  2436.000000    2436.000000  2436.000000  2436.000000   \n",
       "mean   4878.058072  2003.397701      89.757635     6.506055    60.556976   \n",
       "std    1940.353305   600.649600      31.002341     0.288440     8.562857   \n",
       "min    2091.790000  1022.580000      41.150000     6.040200    43.900000   \n",
       "25%    3040.517500  1409.677500      59.102500     6.236225    54.295000   \n",
       "50%    4705.055000  2011.315000      88.905000     6.472650    63.250000   \n",
       "75%    6401.105000  2476.620000     113.972500     6.772000    66.950000   \n",
       "max    9817.180000  3386.150000     160.950000     7.178600    74.330000   \n",
       "\n",
       "           DEXJPUS      DEXUSEU  \n",
       "count  2436.000000  2436.000000  \n",
       "mean    101.586129     1.225251  \n",
       "std      14.002602     0.112174  \n",
       "min      75.720000     1.037500  \n",
       "25%      88.220000     1.121200  \n",
       "50%     106.050000     1.220850  \n",
       "75%     111.642500     1.325600  \n",
       "max     125.580000     1.487500  "
      ]
     },
     "execution_count": 282,
     "metadata": {},
     "output_type": "execute_result"
    }
   ],
   "source": [
    "# Runt he describe function \n",
    "data_df_clean_v3.describe()"
   ]
  },
  {
   "cell_type": "code",
   "execution_count": 283,
   "metadata": {},
   "outputs": [],
   "source": [
    "# Create the Percent Change\n",
    "data_df_clean_v3[\"Pct_DCOILBRENTEU\"] = data_df_clean_v3[\"DCOILBRENTEU\"].pct_change(1)"
   ]
  },
  {
   "cell_type": "code",
   "execution_count": 284,
   "metadata": {},
   "outputs": [],
   "source": [
    "# Create the Percent Change\n",
    "data_df_clean_v3[\"Pct_DJIA\"] = data_df_clean_v3[\"DJIA\"].pct_change(1)"
   ]
  },
  {
   "cell_type": "code",
   "execution_count": 285,
   "metadata": {},
   "outputs": [],
   "source": [
    "# Create the Percent Change\n",
    "data_df_clean_v3[\"Pct_DCOILWTICO\"] = data_df_clean_v3[\"DCOILWTICO\"].pct_change(1)"
   ]
  },
  {
   "cell_type": "code",
   "execution_count": 286,
   "metadata": {},
   "outputs": [],
   "source": [
    "# Create the Percent Change\n",
    "data_df_clean_v3[\"Pct_DHHNGSP\"] = data_df_clean_v3[\"DHHNGSP\"].pct_change(1)"
   ]
  },
  {
   "cell_type": "code",
   "execution_count": 287,
   "metadata": {},
   "outputs": [],
   "source": [
    "# Create the Percent Change\n",
    "data_df_clean_v3[\"Pct_GOLDAMGBD228NLBM\"] = data_df_clean_v3[\"GOLDAMGBD228NLBM\"].pct_change(1)"
   ]
  },
  {
   "cell_type": "code",
   "execution_count": 288,
   "metadata": {},
   "outputs": [],
   "source": [
    "# Create the Percent Change\n",
    "data_df_clean_v3[\"Pct_NASDAQCOM\"] = data_df_clean_v3[\"NASDAQCOM\"].pct_change(1)"
   ]
  },
  {
   "cell_type": "code",
   "execution_count": 289,
   "metadata": {},
   "outputs": [],
   "source": [
    "# Create the Percent Change\n",
    "data_df_clean_v3[\"Pct_SP500\"] = data_df_clean_v3[\"SP500\"].pct_change(1)"
   ]
  },
  {
   "cell_type": "code",
   "execution_count": 290,
   "metadata": {},
   "outputs": [],
   "source": [
    "# Create the Percent Change\n",
    "data_df_clean_v3[\"Pct_WILL5000INDFC\"] = data_df_clean_v3[\"WILL5000INDFC\"].pct_change(1)"
   ]
  },
  {
   "cell_type": "code",
   "execution_count": 291,
   "metadata": {},
   "outputs": [],
   "source": [
    "# Create the Percent Change\n",
    "data_df_clean_v3[\"Pct_DEXCHUS\"] = data_df_clean_v3[\"DEXCHUS\"].pct_change(1)"
   ]
  },
  {
   "cell_type": "code",
   "execution_count": 292,
   "metadata": {},
   "outputs": [],
   "source": [
    "# Create the Percent Change\n",
    "data_df_clean_v3[\"Pct_DEXINUS\"] = data_df_clean_v3[\"DEXINUS\"].pct_change(1)"
   ]
  },
  {
   "cell_type": "code",
   "execution_count": 293,
   "metadata": {},
   "outputs": [],
   "source": [
    "# Create the Percent Change\n",
    "data_df_clean_v3[\"Pct_DEXJPUS\"] = data_df_clean_v3[\"DEXJPUS\"].pct_change(1)"
   ]
  },
  {
   "cell_type": "code",
   "execution_count": 294,
   "metadata": {},
   "outputs": [],
   "source": [
    "# Create the Percent Change\n",
    "data_df_clean_v3[\"Pct_DEXUSEU\"] = data_df_clean_v3[\"DEXUSEU\"].pct_change(1)"
   ]
  },
  {
   "cell_type": "code",
   "execution_count": 295,
   "metadata": {},
   "outputs": [
    {
     "data": {
      "text/plain": [
       "Date                    2436\n",
       "DCOILBRENTEU            2436\n",
       "DJIA                    2436\n",
       "DCOILWTICO              2436\n",
       "DHHNGSP                 2436\n",
       "GOLDAMGBD228NLBM        2436\n",
       "NASDAQCOM               2436\n",
       "SP500                   2436\n",
       "WILL5000INDFC           2436\n",
       "DEXCHUS                 2436\n",
       "DEXINUS                 2436\n",
       "DEXJPUS                 2436\n",
       "DEXUSEU                 2436\n",
       "Pct_DCOILBRENTEU        2435\n",
       "Pct_DJIA                2435\n",
       "Pct_DCOILWTICO          2435\n",
       "Pct_DHHNGSP             2435\n",
       "Pct_GOLDAMGBD228NLBM    2435\n",
       "Pct_NASDAQCOM           2435\n",
       "Pct_SP500               2435\n",
       "Pct_WILL5000INDFC       2435\n",
       "Pct_DEXCHUS             2435\n",
       "Pct_DEXINUS             2435\n",
       "Pct_DEXJPUS             2435\n",
       "Pct_DEXUSEU             2435\n",
       "dtype: int64"
      ]
     },
     "execution_count": 295,
     "metadata": {},
     "output_type": "execute_result"
    }
   ],
   "source": [
    "# Count the rows\n",
    "data_df_clean_v3.count()"
   ]
  },
  {
   "cell_type": "code",
   "execution_count": 296,
   "metadata": {},
   "outputs": [
    {
     "data": {
      "text/plain": [
       "(2436, 25)"
      ]
     },
     "execution_count": 296,
     "metadata": {},
     "output_type": "execute_result"
    }
   ],
   "source": [
    "# Dispaly the count of the rows and columns\n",
    "data_df_clean_v3.shape"
   ]
  },
  {
   "cell_type": "code",
   "execution_count": 297,
   "metadata": {},
   "outputs": [
    {
     "data": {
      "text/plain": [
       "Index(['Date', 'DCOILBRENTEU', 'DJIA', 'DCOILWTICO', 'DHHNGSP',\n",
       "       'GOLDAMGBD228NLBM', 'NASDAQCOM', 'SP500', 'WILL5000INDFC', 'DEXCHUS',\n",
       "       'DEXINUS', 'DEXJPUS', 'DEXUSEU', 'Pct_DCOILBRENTEU', 'Pct_DJIA',\n",
       "       'Pct_DCOILWTICO', 'Pct_DHHNGSP', 'Pct_GOLDAMGBD228NLBM',\n",
       "       'Pct_NASDAQCOM', 'Pct_SP500', 'Pct_WILL5000INDFC', 'Pct_DEXCHUS',\n",
       "       'Pct_DEXINUS', 'Pct_DEXJPUS', 'Pct_DEXUSEU'],\n",
       "      dtype='object')"
      ]
     },
     "execution_count": 297,
     "metadata": {},
     "output_type": "execute_result"
    }
   ],
   "source": [
    "# Dispaly the columns\n",
    "data_df_clean_v3.columns"
   ]
  },
  {
   "cell_type": "code",
   "execution_count": 298,
   "metadata": {},
   "outputs": [
    {
     "data": {
      "text/plain": [
       "Date                     object\n",
       "DCOILBRENTEU            float64\n",
       "DJIA                    float64\n",
       "DCOILWTICO              float64\n",
       "DHHNGSP                 float64\n",
       "GOLDAMGBD228NLBM        float64\n",
       "NASDAQCOM               float64\n",
       "SP500                   float64\n",
       "WILL5000INDFC           float64\n",
       "DEXCHUS                 float64\n",
       "DEXINUS                 float64\n",
       "DEXJPUS                 float64\n",
       "DEXUSEU                 float64\n",
       "Pct_DCOILBRENTEU        float64\n",
       "Pct_DJIA                float64\n",
       "Pct_DCOILWTICO          float64\n",
       "Pct_DHHNGSP             float64\n",
       "Pct_GOLDAMGBD228NLBM    float64\n",
       "Pct_NASDAQCOM           float64\n",
       "Pct_SP500               float64\n",
       "Pct_WILL5000INDFC       float64\n",
       "Pct_DEXCHUS             float64\n",
       "Pct_DEXINUS             float64\n",
       "Pct_DEXJPUS             float64\n",
       "Pct_DEXUSEU             float64\n",
       "dtype: object"
      ]
     },
     "execution_count": 298,
     "metadata": {},
     "output_type": "execute_result"
    }
   ],
   "source": [
    "# Dispaly the datatypes\n",
    "data_df_clean_v3.dtypes"
   ]
  },
  {
   "cell_type": "code",
   "execution_count": 299,
   "metadata": {},
   "outputs": [
    {
     "data": {
      "text/html": [
       "<div>\n",
       "<style scoped>\n",
       "    .dataframe tbody tr th:only-of-type {\n",
       "        vertical-align: middle;\n",
       "    }\n",
       "\n",
       "    .dataframe tbody tr th {\n",
       "        vertical-align: top;\n",
       "    }\n",
       "\n",
       "    .dataframe thead th {\n",
       "        text-align: right;\n",
       "    }\n",
       "</style>\n",
       "<table border=\"1\" class=\"dataframe\">\n",
       "  <thead>\n",
       "    <tr style=\"text-align: right;\">\n",
       "      <th></th>\n",
       "      <th>DCOILBRENTEU</th>\n",
       "      <th>DJIA</th>\n",
       "      <th>DCOILWTICO</th>\n",
       "      <th>DHHNGSP</th>\n",
       "      <th>GOLDAMGBD228NLBM</th>\n",
       "      <th>NASDAQCOM</th>\n",
       "      <th>SP500</th>\n",
       "      <th>WILL5000INDFC</th>\n",
       "      <th>DEXCHUS</th>\n",
       "      <th>DEXINUS</th>\n",
       "      <th>...</th>\n",
       "      <th>Pct_DCOILWTICO</th>\n",
       "      <th>Pct_DHHNGSP</th>\n",
       "      <th>Pct_GOLDAMGBD228NLBM</th>\n",
       "      <th>Pct_NASDAQCOM</th>\n",
       "      <th>Pct_SP500</th>\n",
       "      <th>Pct_WILL5000INDFC</th>\n",
       "      <th>Pct_DEXCHUS</th>\n",
       "      <th>Pct_DEXINUS</th>\n",
       "      <th>Pct_DEXJPUS</th>\n",
       "      <th>Pct_DEXUSEU</th>\n",
       "    </tr>\n",
       "  </thead>\n",
       "  <tbody>\n",
       "    <tr>\n",
       "      <td>count</td>\n",
       "      <td>2436.000000</td>\n",
       "      <td>2436.000000</td>\n",
       "      <td>2436.000000</td>\n",
       "      <td>2436.000000</td>\n",
       "      <td>2436.000000</td>\n",
       "      <td>2436.000000</td>\n",
       "      <td>2436.000000</td>\n",
       "      <td>2436.000000</td>\n",
       "      <td>2436.000000</td>\n",
       "      <td>2436.000000</td>\n",
       "      <td>...</td>\n",
       "      <td>2435.000000</td>\n",
       "      <td>2435.000000</td>\n",
       "      <td>2435.000000</td>\n",
       "      <td>2435.000000</td>\n",
       "      <td>2435.000000</td>\n",
       "      <td>2435.000000</td>\n",
       "      <td>2435.000000</td>\n",
       "      <td>2435.000000</td>\n",
       "      <td>2435.000000</td>\n",
       "      <td>2435.000000</td>\n",
       "    </tr>\n",
       "    <tr>\n",
       "      <td>mean</td>\n",
       "      <td>79.177783</td>\n",
       "      <td>17946.284860</td>\n",
       "      <td>71.897036</td>\n",
       "      <td>3.241067</td>\n",
       "      <td>1356.465948</td>\n",
       "      <td>4878.058072</td>\n",
       "      <td>2003.397701</td>\n",
       "      <td>89.757635</td>\n",
       "      <td>6.506055</td>\n",
       "      <td>60.556976</td>\n",
       "      <td>...</td>\n",
       "      <td>-0.000144</td>\n",
       "      <td>0.000589</td>\n",
       "      <td>0.000190</td>\n",
       "      <td>0.000556</td>\n",
       "      <td>0.000398</td>\n",
       "      <td>0.000465</td>\n",
       "      <td>0.000013</td>\n",
       "      <td>0.000212</td>\n",
       "      <td>0.000087</td>\n",
       "      <td>-0.000069</td>\n",
       "    </tr>\n",
       "    <tr>\n",
       "      <td>std</td>\n",
       "      <td>26.383881</td>\n",
       "      <td>5236.744309</td>\n",
       "      <td>22.154591</td>\n",
       "      <td>0.837332</td>\n",
       "      <td>179.028310</td>\n",
       "      <td>1940.353305</td>\n",
       "      <td>600.649600</td>\n",
       "      <td>31.002341</td>\n",
       "      <td>0.288440</td>\n",
       "      <td>8.562857</td>\n",
       "      <td>...</td>\n",
       "      <td>0.022158</td>\n",
       "      <td>0.043691</td>\n",
       "      <td>0.009717</td>\n",
       "      <td>0.011516</td>\n",
       "      <td>0.010139</td>\n",
       "      <td>0.010340</td>\n",
       "      <td>0.001921</td>\n",
       "      <td>0.004984</td>\n",
       "      <td>0.005871</td>\n",
       "      <td>0.005558</td>\n",
       "    </tr>\n",
       "    <tr>\n",
       "      <td>min</td>\n",
       "      <td>26.010000</td>\n",
       "      <td>9686.480000</td>\n",
       "      <td>26.190000</td>\n",
       "      <td>1.490000</td>\n",
       "      <td>1050.600000</td>\n",
       "      <td>2091.790000</td>\n",
       "      <td>1022.580000</td>\n",
       "      <td>41.150000</td>\n",
       "      <td>6.040200</td>\n",
       "      <td>43.900000</td>\n",
       "      <td>...</td>\n",
       "      <td>-0.245260</td>\n",
       "      <td>-0.378495</td>\n",
       "      <td>-0.085271</td>\n",
       "      <td>-0.094347</td>\n",
       "      <td>-0.095113</td>\n",
       "      <td>-0.097228</td>\n",
       "      <td>-0.012340</td>\n",
       "      <td>-0.036863</td>\n",
       "      <td>-0.034372</td>\n",
       "      <td>-0.026370</td>\n",
       "    </tr>\n",
       "    <tr>\n",
       "      <td>25%</td>\n",
       "      <td>56.167500</td>\n",
       "      <td>13167.747500</td>\n",
       "      <td>51.822500</td>\n",
       "      <td>2.700000</td>\n",
       "      <td>1230.537500</td>\n",
       "      <td>3040.517500</td>\n",
       "      <td>1409.677500</td>\n",
       "      <td>59.102500</td>\n",
       "      <td>6.236225</td>\n",
       "      <td>54.295000</td>\n",
       "      <td>...</td>\n",
       "      <td>-0.011378</td>\n",
       "      <td>-0.015608</td>\n",
       "      <td>-0.005154</td>\n",
       "      <td>-0.004195</td>\n",
       "      <td>-0.003371</td>\n",
       "      <td>-0.003614</td>\n",
       "      <td>-0.000677</td>\n",
       "      <td>-0.002240</td>\n",
       "      <td>-0.002860</td>\n",
       "      <td>-0.003154</td>\n",
       "    </tr>\n",
       "    <tr>\n",
       "      <td>50%</td>\n",
       "      <td>74.290000</td>\n",
       "      <td>17193.395000</td>\n",
       "      <td>68.790000</td>\n",
       "      <td>3.045000</td>\n",
       "      <td>1299.500000</td>\n",
       "      <td>4705.055000</td>\n",
       "      <td>2011.315000</td>\n",
       "      <td>88.905000</td>\n",
       "      <td>6.472650</td>\n",
       "      <td>63.250000</td>\n",
       "      <td>...</td>\n",
       "      <td>0.000491</td>\n",
       "      <td>0.000000</td>\n",
       "      <td>0.000266</td>\n",
       "      <td>0.000951</td>\n",
       "      <td>0.000603</td>\n",
       "      <td>0.000788</td>\n",
       "      <td>0.000000</td>\n",
       "      <td>0.000000</td>\n",
       "      <td>0.000090</td>\n",
       "      <td>-0.000073</td>\n",
       "    </tr>\n",
       "    <tr>\n",
       "      <td>75%</td>\n",
       "      <td>107.917500</td>\n",
       "      <td>22050.867500</td>\n",
       "      <td>93.542500</td>\n",
       "      <td>3.850000</td>\n",
       "      <td>1473.162500</td>\n",
       "      <td>6401.105000</td>\n",
       "      <td>2476.620000</td>\n",
       "      <td>113.972500</td>\n",
       "      <td>6.772000</td>\n",
       "      <td>66.950000</td>\n",
       "      <td>...</td>\n",
       "      <td>0.010890</td>\n",
       "      <td>0.015019</td>\n",
       "      <td>0.005440</td>\n",
       "      <td>0.006582</td>\n",
       "      <td>0.005161</td>\n",
       "      <td>0.005401</td>\n",
       "      <td>0.000654</td>\n",
       "      <td>0.002510</td>\n",
       "      <td>0.003176</td>\n",
       "      <td>0.002989</td>\n",
       "    </tr>\n",
       "    <tr>\n",
       "      <td>max</td>\n",
       "      <td>128.140000</td>\n",
       "      <td>29551.420000</td>\n",
       "      <td>112.380000</td>\n",
       "      <td>8.150000</td>\n",
       "      <td>1891.000000</td>\n",
       "      <td>9817.180000</td>\n",
       "      <td>3386.150000</td>\n",
       "      <td>160.950000</td>\n",
       "      <td>7.178600</td>\n",
       "      <td>74.330000</td>\n",
       "      <td>...</td>\n",
       "      <td>0.152301</td>\n",
       "      <td>0.691057</td>\n",
       "      <td>0.052013</td>\n",
       "      <td>0.093459</td>\n",
       "      <td>0.092871</td>\n",
       "      <td>0.089978</td>\n",
       "      <td>0.018327</td>\n",
       "      <td>0.047770</td>\n",
       "      <td>0.033993</td>\n",
       "      <td>0.031117</td>\n",
       "    </tr>\n",
       "  </tbody>\n",
       "</table>\n",
       "<p>8 rows × 24 columns</p>\n",
       "</div>"
      ],
      "text/plain": [
       "       DCOILBRENTEU          DJIA   DCOILWTICO      DHHNGSP  GOLDAMGBD228NLBM  \\\n",
       "count   2436.000000   2436.000000  2436.000000  2436.000000       2436.000000   \n",
       "mean      79.177783  17946.284860    71.897036     3.241067       1356.465948   \n",
       "std       26.383881   5236.744309    22.154591     0.837332        179.028310   \n",
       "min       26.010000   9686.480000    26.190000     1.490000       1050.600000   \n",
       "25%       56.167500  13167.747500    51.822500     2.700000       1230.537500   \n",
       "50%       74.290000  17193.395000    68.790000     3.045000       1299.500000   \n",
       "75%      107.917500  22050.867500    93.542500     3.850000       1473.162500   \n",
       "max      128.140000  29551.420000   112.380000     8.150000       1891.000000   \n",
       "\n",
       "         NASDAQCOM        SP500  WILL5000INDFC      DEXCHUS      DEXINUS  ...  \\\n",
       "count  2436.000000  2436.000000    2436.000000  2436.000000  2436.000000  ...   \n",
       "mean   4878.058072  2003.397701      89.757635     6.506055    60.556976  ...   \n",
       "std    1940.353305   600.649600      31.002341     0.288440     8.562857  ...   \n",
       "min    2091.790000  1022.580000      41.150000     6.040200    43.900000  ...   \n",
       "25%    3040.517500  1409.677500      59.102500     6.236225    54.295000  ...   \n",
       "50%    4705.055000  2011.315000      88.905000     6.472650    63.250000  ...   \n",
       "75%    6401.105000  2476.620000     113.972500     6.772000    66.950000  ...   \n",
       "max    9817.180000  3386.150000     160.950000     7.178600    74.330000  ...   \n",
       "\n",
       "       Pct_DCOILWTICO  Pct_DHHNGSP  Pct_GOLDAMGBD228NLBM  Pct_NASDAQCOM  \\\n",
       "count     2435.000000  2435.000000           2435.000000    2435.000000   \n",
       "mean        -0.000144     0.000589              0.000190       0.000556   \n",
       "std          0.022158     0.043691              0.009717       0.011516   \n",
       "min         -0.245260    -0.378495             -0.085271      -0.094347   \n",
       "25%         -0.011378    -0.015608             -0.005154      -0.004195   \n",
       "50%          0.000491     0.000000              0.000266       0.000951   \n",
       "75%          0.010890     0.015019              0.005440       0.006582   \n",
       "max          0.152301     0.691057              0.052013       0.093459   \n",
       "\n",
       "         Pct_SP500  Pct_WILL5000INDFC  Pct_DEXCHUS  Pct_DEXINUS  Pct_DEXJPUS  \\\n",
       "count  2435.000000        2435.000000  2435.000000  2435.000000  2435.000000   \n",
       "mean      0.000398           0.000465     0.000013     0.000212     0.000087   \n",
       "std       0.010139           0.010340     0.001921     0.004984     0.005871   \n",
       "min      -0.095113          -0.097228    -0.012340    -0.036863    -0.034372   \n",
       "25%      -0.003371          -0.003614    -0.000677    -0.002240    -0.002860   \n",
       "50%       0.000603           0.000788     0.000000     0.000000     0.000090   \n",
       "75%       0.005161           0.005401     0.000654     0.002510     0.003176   \n",
       "max       0.092871           0.089978     0.018327     0.047770     0.033993   \n",
       "\n",
       "       Pct_DEXUSEU  \n",
       "count  2435.000000  \n",
       "mean     -0.000069  \n",
       "std       0.005558  \n",
       "min      -0.026370  \n",
       "25%      -0.003154  \n",
       "50%      -0.000073  \n",
       "75%       0.002989  \n",
       "max       0.031117  \n",
       "\n",
       "[8 rows x 24 columns]"
      ]
     },
     "execution_count": 299,
     "metadata": {},
     "output_type": "execute_result"
    }
   ],
   "source": [
    "# Run the describe function\n",
    "data_df_clean_v3.describe()\n"
   ]
  },
  {
   "cell_type": "code",
   "execution_count": 300,
   "metadata": {},
   "outputs": [],
   "source": [
    "# Export the final version of the cleaned up ata to be used in the Analysis\n",
    "data_df_clean_v3.to_excel(\"Output/01_Exploration_and_Cleanup/v3_clean_data_created_percentage_changes.xlsx\", index=False)"
   ]
  },
  {
   "cell_type": "code",
   "execution_count": null,
   "metadata": {},
   "outputs": [],
   "source": []
  }
 ],
 "metadata": {
  "kernelspec": {
   "display_name": "Python 3",
   "language": "python",
   "name": "python3"
  },
  "language_info": {
   "codemirror_mode": {
    "name": "ipython",
    "version": 3
   },
   "file_extension": ".py",
   "mimetype": "text/x-python",
   "name": "python",
   "nbconvert_exporter": "python",
   "pygments_lexer": "ipython3",
   "version": "3.7.4"
  }
 },
 "nbformat": 4,
 "nbformat_minor": 2
}
